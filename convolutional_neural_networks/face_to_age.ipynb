{
 "cells": [
  {
   "cell_type": "markdown",
   "metadata": {
    "id": "WCk2YEqBhdP2"
   },
   "source": [
    "# Face Detection Challenge"
   ]
  },
  {
   "cell_type": "code",
   "execution_count": 1,
   "metadata": {
    "executionInfo": {
     "elapsed": 3224,
     "status": "ok",
     "timestamp": 1615229786391,
     "user": {
      "displayName": "Bruno Lajoie",
      "photoUrl": "https://lh3.googleusercontent.com/a-/AOh14Gg0dl6gThG8gOPbCvHbgt62zQnsi8cgbQ7C5HkD_Cg=s64",
      "userId": "15793030209206844069"
     },
     "user_tz": -60
    },
    "id": "ZH4sxIwVqhAV"
   },
   "outputs": [],
   "source": [
    "import numpy as np \n",
    "import pandas as pd"
   ]
  },
  {
   "cell_type": "markdown",
   "metadata": {
    "id": "JBXc4442fJZV"
   },
   "source": [
    "### Objectives\n",
    "-  visualize images\n",
    "-  preprocess images for Neural Networks\n",
    "-  fit a custom CNN for a regression task\n",
    "-  fine-tune a analyse model performance"
   ]
  },
  {
   "cell_type": "markdown",
   "metadata": {
    "id": "gv76LFXjqzau"
   },
   "source": [
    "## 1. Visualize images"
   ]
  },
  {
   "cell_type": "markdown",
   "metadata": {},
   "source": [
    "👉 Load the dataset (200 Mo)"
   ]
  },
  {
   "cell_type": "code",
   "execution_count": 2,
   "metadata": {
    "executionInfo": {
     "elapsed": 10102,
     "status": "ok",
     "timestamp": 1615229794824,
     "user": {
      "displayName": "Bruno Lajoie",
      "photoUrl": "https://lh3.googleusercontent.com/a-/AOh14Gg0dl6gThG8gOPbCvHbgt62zQnsi8cgbQ7C5HkD_Cg=s64",
      "userId": "15793030209206844069"
     },
     "user_tz": -60
    },
    "id": "2tZUrTCepyPs"
   },
   "outputs": [
    {
     "data": {
      "text/html": [
       "<div>\n",
       "<style scoped>\n",
       "    .dataframe tbody tr th:only-of-type {\n",
       "        vertical-align: middle;\n",
       "    }\n",
       "\n",
       "    .dataframe tbody tr th {\n",
       "        vertical-align: top;\n",
       "    }\n",
       "\n",
       "    .dataframe thead th {\n",
       "        text-align: right;\n",
       "    }\n",
       "</style>\n",
       "<table border=\"1\" class=\"dataframe\">\n",
       "  <thead>\n",
       "    <tr style=\"text-align: right;\">\n",
       "      <th></th>\n",
       "      <th>age</th>\n",
       "      <th>pixels</th>\n",
       "    </tr>\n",
       "  </thead>\n",
       "  <tbody>\n",
       "    <tr>\n",
       "      <th>0</th>\n",
       "      <td>1</td>\n",
       "      <td>129 128 128 126 127 130 133 135 139 142 145 14...</td>\n",
       "    </tr>\n",
       "    <tr>\n",
       "      <th>1</th>\n",
       "      <td>1</td>\n",
       "      <td>164 74 111 168 169 171 175 182 184 188 193 199...</td>\n",
       "    </tr>\n",
       "    <tr>\n",
       "      <th>2</th>\n",
       "      <td>1</td>\n",
       "      <td>67 70 71 70 69 67 70 79 90 103 116 132 145 155...</td>\n",
       "    </tr>\n",
       "    <tr>\n",
       "      <th>3</th>\n",
       "      <td>1</td>\n",
       "      <td>193 197 198 200 199 200 202 203 204 205 208 21...</td>\n",
       "    </tr>\n",
       "    <tr>\n",
       "      <th>4</th>\n",
       "      <td>1</td>\n",
       "      <td>202 205 209 210 209 209 210 211 212 214 218 21...</td>\n",
       "    </tr>\n",
       "    <tr>\n",
       "      <th>...</th>\n",
       "      <td>...</td>\n",
       "      <td>...</td>\n",
       "    </tr>\n",
       "    <tr>\n",
       "      <th>23700</th>\n",
       "      <td>99</td>\n",
       "      <td>127 100 94 81 77 77 74 99 102 98 128 145 160 1...</td>\n",
       "    </tr>\n",
       "    <tr>\n",
       "      <th>23701</th>\n",
       "      <td>99</td>\n",
       "      <td>23 28 32 35 42 47 68 85 98 103 113 117 130 129...</td>\n",
       "    </tr>\n",
       "    <tr>\n",
       "      <th>23702</th>\n",
       "      <td>99</td>\n",
       "      <td>59 50 37 40 34 19 30 101 156 170 177 184 187 1...</td>\n",
       "    </tr>\n",
       "    <tr>\n",
       "      <th>23703</th>\n",
       "      <td>99</td>\n",
       "      <td>45 108 120 156 206 197 140 180 191 199 204 207...</td>\n",
       "    </tr>\n",
       "    <tr>\n",
       "      <th>23704</th>\n",
       "      <td>99</td>\n",
       "      <td>156 161 160 165 170 173 166 177 183 191 187 18...</td>\n",
       "    </tr>\n",
       "  </tbody>\n",
       "</table>\n",
       "<p>23705 rows × 2 columns</p>\n",
       "</div>"
      ],
      "text/plain": [
       "       age                                             pixels\n",
       "0        1  129 128 128 126 127 130 133 135 139 142 145 14...\n",
       "1        1  164 74 111 168 169 171 175 182 184 188 193 199...\n",
       "2        1  67 70 71 70 69 67 70 79 90 103 116 132 145 155...\n",
       "3        1  193 197 198 200 199 200 202 203 204 205 208 21...\n",
       "4        1  202 205 209 210 209 209 210 211 212 214 218 21...\n",
       "...    ...                                                ...\n",
       "23700   99  127 100 94 81 77 77 74 99 102 98 128 145 160 1...\n",
       "23701   99  23 28 32 35 42 47 68 85 98 103 113 117 130 129...\n",
       "23702   99  59 50 37 40 34 19 30 101 156 170 177 184 187 1...\n",
       "23703   99  45 108 120 156 206 197 140 180 191 199 204 207...\n",
       "23704   99  156 161 160 165 170 173 166 177 183 191 187 18...\n",
       "\n",
       "[23705 rows x 2 columns]"
      ]
     },
     "execution_count": 2,
     "metadata": {},
     "output_type": "execute_result"
    }
   ],
   "source": [
    "data = pd.read_csv(\"https://wagon-public-datasets.s3.amazonaws.com/certification_paris_2021Q1/images.csv\")\n",
    "data"
   ]
  },
  {
   "cell_type": "markdown",
   "metadata": {
    "ExecuteTime": {
     "end_time": "2021-03-12T10:04:13.153735Z",
     "start_time": "2021-03-12T10:04:13.148224Z"
    }
   },
   "source": [
    "Each row represent the image of a face in black and white\n",
    "- `age` is the age in year\n",
    "- `pixels` contains the 2304 (= 48 * 48) flatten values of each pixel in the image, in a black scale from 0 to 255, stored as string"
   ]
  },
  {
   "cell_type": "markdown",
   "metadata": {},
   "source": [
    "❓ Plot the histogram of age in your dataset"
   ]
  },
  {
   "cell_type": "code",
   "execution_count": 3,
   "metadata": {},
   "outputs": [
    {
     "data": {
      "image/png": "[encoded data removed]",
      "text/plain": [
       "<Figure size 432x288 with 1 Axes>"
      ]
     },
     "metadata": {
      "needs_background": "light"
     },
     "output_type": "display_data"
    }
   ],
   "source": [
    "### TODO\n",
    "import matplotlib.pyplot as plt\n",
    "plt.hist(data['age']);"
   ]
  },
  {
   "cell_type": "markdown",
   "metadata": {
    "id": "JQ1ew-IAwUNL"
   },
   "source": [
    "❓ Visually display one image of your choice."
   ]
  },
  {
   "cell_type": "code",
   "execution_count": 4,
   "metadata": {},
   "outputs": [],
   "source": [
    "img = np.array([int(x) for x in data.iloc[0][1].split()]).reshape(48,48)"
   ]
  },
  {
   "cell_type": "code",
   "execution_count": 5,
   "metadata": {},
   "outputs": [
    {
     "data": {
      "text/plain": [
       "<matplotlib.image.AxesImage at 0x7ff4de242520>"
      ]
     },
     "execution_count": 5,
     "metadata": {},
     "output_type": "execute_result"
    },
    {
     "data": {
      "image/png": "[encoded data removed]",
      "text/plain": [
       "<Figure size 432x288 with 1 Axes>"
      ]
     },
     "metadata": {
      "needs_background": "light"
     },
     "output_type": "display_data"
    }
   ],
   "source": [
    "plt.imshow(img)"
   ]
  },
  {
   "cell_type": "code",
   "execution_count": 6,
   "metadata": {
    "colab": {
     "base_uri": "https://localhost:8080/",
     "height": 284
    },
    "executionInfo": {
     "elapsed": 594,
     "status": "ok",
     "timestamp": 1615229800246,
     "user": {
      "displayName": "Bruno Lajoie",
      "photoUrl": "https://lh3.googleusercontent.com/a-/AOh14Gg0dl6gThG8gOPbCvHbgt62zQnsi8cgbQ7C5HkD_Cg=s64",
      "userId": "15793030209206844069"
     },
     "user_tz": -60
    },
    "id": "q9dLVirWwMoE",
    "outputId": "cd8b8794-35ff-4405-cef7-15909a03b846"
   },
   "outputs": [
    {
     "data": {
      "text/plain": [
       "<matplotlib.image.AxesImage at 0x7ff4de1a8df0>"
      ]
     },
     "execution_count": 6,
     "metadata": {},
     "output_type": "execute_result"
    },
    {
     "data": {
      "image/png": "[encoded data removed]",
      "text/plain": [
       "<Figure size 432x288 with 1 Axes>"
      ]
     },
     "metadata": {
      "needs_background": "light"
     },
     "output_type": "display_data"
    }
   ],
   "source": [
    "### TODO\n",
    "img = np.array([int(x) for x in data.iloc[10_000][1].split()]).reshape(48,48)\n",
    "plt.imshow(img)"
   ]
  },
  {
   "cell_type": "markdown",
   "metadata": {},
   "source": [
    "❓ What is the physical characteristic of the image at **index** `10000`?"
   ]
  },
  {
   "cell_type": "code",
   "execution_count": 7,
   "metadata": {},
   "outputs": [],
   "source": [
    "# Store your result in the variable below\n",
    "\n",
    "gender = \"male\"\n",
    "# gender = \"female\"\n",
    "\n",
    "# smile = True\n",
    "smile = False"
   ]
  },
  {
   "cell_type": "code",
   "execution_count": 8,
   "metadata": {},
   "outputs": [],
   "source": [
    "from nbresult import ChallengeResult\n",
    "result = ChallengeResult('C14',\n",
    "                         gender=gender,\n",
    "                         smile=smile)\n",
    "result.write()"
   ]
  },
  {
   "cell_type": "markdown",
   "metadata": {
    "id": "AjeMU0GTwFSe"
   },
   "source": [
    "## 2. Processing"
   ]
  },
  {
   "cell_type": "markdown",
   "metadata": {},
   "source": [
    "❓ Your goal is to train a convolutional neural network model to predict the age of a person based solely on a picture of his/her face.\n",
    "- Create your feature matrix `X` as nparray of shape suited for a CNN, scaled between 0 and 1\n",
    "- Create your target vector `y`\n",
    "- Create a holdout set (`X_train`, `y_train`) (`X_test`, `y_test`) keeping `30%` in the test set, randomly sampled out of the whole dataset\n",
    "\n",
    "😌 Don't worry, you will be given the solution in the next question in case you don't make it"
   ]
  },
  {
   "cell_type": "code",
   "execution_count": 26,
   "metadata": {},
   "outputs": [],
   "source": [
    "## YOUR CODE\n",
    "\n",
    "n_pictures = len(data)\n",
    "X = np.zeros((n_pictures,48,48),int)\n",
    "\n",
    "for i in range(len(data)):\n",
    "    img = np.array([int(x) for x in data.iloc[0][1].split()]).reshape((48,48))\n",
    "    X[i,:,:] = img/255\n",
    "    \n",
    "y = data['age']"
   ]
  },
  {
   "cell_type": "code",
   "execution_count": 47,
   "metadata": {},
   "outputs": [],
   "source": [
    "from sklearn.model_selection import train_test_split\n",
    "from tensorflow.keras.backend import expand_dims\n",
    "\n",
    "X_train, X_test, y_train, y_test = train_test_split(X,y,test_size=0.3)\n",
    "\n",
    "X_train = expand_dims(X_train)\n",
    "X_test = expand_dims(X_test)"
   ]
  },
  {
   "cell_type": "code",
   "execution_count": 34,
   "metadata": {},
   "outputs": [],
   "source": [
    "from nbresult import ChallengeResult\n",
    "result = ChallengeResult('C1415', \n",
    "                         X_train_shape = X_train.shape,\n",
    "                         y_train_shape = y_train.shape,\n",
    "                         first_image = X_train[0]\n",
    "                        )\n",
    "result.write()"
   ]
  },
  {
   "cell_type": "markdown",
   "metadata": {
    "id": "3bSHDYC8OlrL"
   },
   "source": [
    "## Convolutional Neural Network for Age prediction"
   ]
  },
  {
   "cell_type": "markdown",
   "metadata": {},
   "source": [
    "❓ Build a convolutional neural network\n",
    "\n",
    "- Do not use transfer learning\n",
    "- Store number of trainable parameters in a variable `params_number`\n",
    "- Plot your metric & loss at each epoch\n",
    "- make sure your model does not overfit with appropriate control techniques\n",
    "- Compute the mean absolute error on your test set and store it as `mae_test`\n",
    "- Compute, store and compare it with a `mae_baseline`\n",
    "\n",
    "💡 You will not be judged by the computing power of your computer, but you should obtain significantly better performance than the baseline in less than 3 minutes, even without GPUs"
   ]
  },
  {
   "cell_type": "markdown",
   "metadata": {},
   "source": [
    "👉 Feel free to start back from the solution by running the cell below (~500Mo download)"
   ]
  },
  {
   "cell_type": "code",
   "execution_count": 51,
   "metadata": {},
   "outputs": [
    {
     "name": "stdout",
     "output_type": "stream",
     "text": [
      "  % Total    % Received % Xferd  Average Speed   Time    Time     Time  Current\n",
      "                                 Dload  Upload   Total   Spent    Left  Speed\n",
      "100  291M  100  291M    0     0  9654k      0  0:00:30  0:00:30 --:--:-- 9648k\n",
      "  % Total    % Received % Xferd  Average Speed   Time    Time     Time  Current\n",
      "                                 Dload  Upload   Total   Spent    Left  Speed\n",
      "100  125M  100  125M    0     0  9362k      0  0:00:13  0:00:13 --:--:--  9.8M\n",
      "  % Total    % Received % Xferd  Average Speed   Time    Time     Time  Current\n",
      "                                 Dload  Upload   Total   Spent    Left  Speed\n",
      "100  129k  100  129k    0     0   452k      0 --:--:-- --:--:-- --:--:--  452k\n",
      "  % Total    % Received % Xferd  Average Speed   Time    Time     Time  Current\n",
      "                                 Dload  Upload   Total   Spent    Left  Speed\n",
      "100 57023  100 57023    0     0   253k      0 --:--:-- --:--:-- --:--:--  253k\n"
     ]
    }
   ],
   "source": [
    "import pickle\n",
    "\n",
    "file_names = [\"images_X_train.pickle\", \"images_X_test.pickle\", \"images_y_train.pickle\", \"images_y_test.pickle\"]\n",
    "pickles = dict()\n",
    "\n",
    "for file_name in file_names:\n",
    "    url = f\"https://wagon-public-datasets.s3.amazonaws.com/certification_paris_2021Q1/{file_name}\"\n",
    "    command = f\"curl --output {file_name} {url}\"\n",
    "    ! eval {command}\n",
    "    with open(file_name, 'rb') as handle:\n",
    "        pickles[file_name] = pickle.load(handle)\n",
    "    command = f\"rm {file_name}\"\n",
    "    ! eval {command}\n",
    "        \n",
    "X_train, X_test, y_train, y_test = pickles.values()"
   ]
  },
  {
   "cell_type": "code",
   "execution_count": 58,
   "metadata": {},
   "outputs": [],
   "source": [
    "### YOUR CODE\n",
    "\n",
    "from tensorflow.keras import layers\n",
    "from tensorflow.keras import models\n",
    "\n",
    "\n",
    "def initialize_model():\n",
    "\n",
    "    model = models.Sequential()\n",
    "    \n",
    "    ### First convolution & max-pooling\n",
    "    model.add(layers.Conv2D(8, (4,4), strides=(2,2), input_shape=(48, 48, 1), padding='same'))\n",
    "    model.add(layers.MaxPool2D(pool_size=(2,2)))    \n",
    "    \n",
    "    ### Flattening\n",
    "    model.add(layers.Flatten())\n",
    "\n",
    "    ### One fully connected\n",
    "    model.add(layers.Dense(10, activation='relu'))\n",
    "\n",
    "    ### Last layer for regression task\n",
    "    model.add(layers.Dense(1, activation='linear'))    \n",
    "    \n",
    "    ### Model compilation\n",
    "    model.compile(loss='mse',\n",
    "                  optimizer='rmsprop',\n",
    "                  metrics=['mae']\n",
    "                 )\n",
    "    return model"
   ]
  },
  {
   "cell_type": "code",
   "execution_count": 59,
   "metadata": {},
   "outputs": [],
   "source": [
    "model = initialize_model()"
   ]
  },
  {
   "cell_type": "code",
   "execution_count": 60,
   "metadata": {
    "scrolled": false
   },
   "outputs": [
    {
     "name": "stdout",
     "output_type": "stream",
     "text": [
      "Epoch 1/50\n",
      "1038/1038 [==============================] - 6s 5ms/step - loss: 525.5118 - mae: 17.4015\n",
      "Epoch 2/50\n",
      "1038/1038 [==============================] - 5s 5ms/step - loss: 329.3702 - mae: 13.8469\n",
      "Epoch 3/50\n",
      "1038/1038 [==============================] - 6s 5ms/step - loss: 271.1981 - mae: 12.7141\n",
      "Epoch 4/50\n",
      "1038/1038 [==============================] - 5s 5ms/step - loss: 256.5834 - mae: 12.3250\n",
      "Epoch 5/50\n",
      "1038/1038 [==============================] - 5s 5ms/step - loss: 242.1521 - mae: 11.8877\n",
      "Epoch 6/50\n",
      "1038/1038 [==============================] - 6s 6ms/step - loss: 232.0621 - mae: 11.6115\n",
      "Epoch 7/50\n",
      "1038/1038 [==============================] - 6s 6ms/step - loss: 225.6652 - mae: 11.3768\n",
      "Epoch 8/50\n",
      "1038/1038 [==============================] - 5s 5ms/step - loss: 206.2016 - mae: 10.8298\n",
      "Epoch 9/50\n",
      "1038/1038 [==============================] - 5s 5ms/step - loss: 198.4806 - mae: 10.5822\n",
      "Epoch 10/50\n",
      "1038/1038 [==============================] - 5s 5ms/step - loss: 192.0893 - mae: 10.3466\n",
      "Epoch 11/50\n",
      "1038/1038 [==============================] - 5s 5ms/step - loss: 183.6481 - mae: 10.1050\n",
      "Epoch 12/50\n",
      "1038/1038 [==============================] - 5s 5ms/step - loss: 173.2297 - mae: 9.8362\n",
      "Epoch 13/50\n",
      "1038/1038 [==============================] - 5s 5ms/step - loss: 170.2898 - mae: 9.6783\n",
      "Epoch 14/50\n",
      "1038/1038 [==============================] - 5s 5ms/step - loss: 159.9102 - mae: 9.3670\n",
      "Epoch 15/50\n",
      "1038/1038 [==============================] - 5s 5ms/step - loss: 152.2949 - mae: 9.1157\n",
      "Epoch 16/50\n",
      "1038/1038 [==============================] - 5s 5ms/step - loss: 144.6770 - mae: 8.8773\n",
      "Epoch 17/50\n",
      "1038/1038 [==============================] - 5s 4ms/step - loss: 149.1678 - mae: 8.9514\n",
      "Epoch 18/50\n",
      "1038/1038 [==============================] - 5s 5ms/step - loss: 134.9882 - mae: 8.6348\n",
      "Epoch 19/50\n",
      "1038/1038 [==============================] - 5s 5ms/step - loss: 134.5311 - mae: 8.5410\n",
      "Epoch 20/50\n",
      "1038/1038 [==============================] - 5s 5ms/step - loss: 129.8492 - mae: 8.4752\n",
      "Epoch 21/50\n",
      "1038/1038 [==============================] - 5s 5ms/step - loss: 127.9465 - mae: 8.4049\n",
      "Epoch 22/50\n",
      "1038/1038 [==============================] - 5s 5ms/step - loss: 124.1999 - mae: 8.2436\n",
      "Epoch 23/50\n",
      "1038/1038 [==============================] - 5s 5ms/step - loss: 123.6274 - mae: 8.1727\n",
      "Epoch 24/50\n",
      "1038/1038 [==============================] - 5s 5ms/step - loss: 119.0958 - mae: 8.0594\n",
      "Epoch 25/50\n",
      "1038/1038 [==============================] - 5s 5ms/step - loss: 115.6169 - mae: 8.0343A: 0s - loss: 115.3372 -\n",
      "Epoch 26/50\n",
      "1038/1038 [==============================] - 5s 5ms/step - loss: 117.8040 - mae: 8.0074\n",
      "Epoch 27/50\n",
      "1038/1038 [==============================] - 5s 5ms/step - loss: 115.7696 - mae: 7.9548\n",
      "Epoch 28/50\n",
      "1038/1038 [==============================] - 5s 5ms/step - loss: 109.6161 - mae: 7.8131\n",
      "Epoch 29/50\n",
      "1038/1038 [==============================] - 5s 5ms/step - loss: 109.1669 - mae: 7.6966\n",
      "Epoch 30/50\n",
      "1038/1038 [==============================] - 5s 5ms/step - loss: 105.1371 - mae: 7.6169\n",
      "Epoch 31/50\n",
      "1038/1038 [==============================] - 5s 5ms/step - loss: 105.2165 - mae: 7.6632\n",
      "Epoch 32/50\n",
      "1038/1038 [==============================] - 5s 5ms/step - loss: 103.5051 - mae: 7.5501\n",
      "Epoch 33/50\n",
      "1038/1038 [==============================] - 5s 5ms/step - loss: 101.6302 - mae: 7.4884\n",
      "Epoch 34/50\n",
      "1038/1038 [==============================] - 5s 5ms/step - loss: 100.2588 - mae: 7.4729\n",
      "Epoch 35/50\n",
      "1038/1038 [==============================] - 5s 5ms/step - loss: 99.9348 - mae: 7.4076\n",
      "Epoch 36/50\n",
      "1038/1038 [==============================] - 5s 5ms/step - loss: 100.5489 - mae: 7.4122\n",
      "Epoch 37/50\n",
      "1038/1038 [==============================] - 5s 5ms/step - loss: 95.2528 - mae: 7.2313\n",
      "Epoch 38/50\n",
      "1038/1038 [==============================] - 5s 4ms/step - loss: 97.1271 - mae: 7.3784\n",
      "Epoch 39/50\n",
      "1038/1038 [==============================] - 5s 5ms/step - loss: 95.3077 - mae: 7.2392\n",
      "Epoch 40/50\n",
      "1038/1038 [==============================] - 5s 5ms/step - loss: 92.7425 - mae: 7.1467\n",
      "Epoch 41/50\n",
      "1038/1038 [==============================] - 5s 5ms/step - loss: 92.5154 - mae: 7.2161\n",
      "Epoch 42/50\n",
      "1038/1038 [==============================] - 5s 5ms/step - loss: 93.7546 - mae: 7.2001\n",
      "Epoch 43/50\n",
      "1038/1038 [==============================] - 6s 6ms/step - loss: 90.7615 - mae: 7.0999\n",
      "Epoch 44/50\n",
      "1038/1038 [==============================] - 5s 5ms/step - loss: 90.8085 - mae: 7.0969\n",
      "Epoch 45/50\n",
      "1038/1038 [==============================] - 5s 4ms/step - loss: 90.4683 - mae: 7.1296\n",
      "Epoch 46/50\n",
      "1038/1038 [==============================] - 5s 5ms/step - loss: 90.1667 - mae: 7.0855\n",
      "Epoch 47/50\n",
      "1038/1038 [==============================] - 5s 5ms/step - loss: 88.0037 - mae: 6.9697\n",
      "Epoch 48/50\n",
      "1038/1038 [==============================] - 5s 5ms/step - loss: 86.0959 - mae: 6.9155\n",
      "Epoch 49/50\n",
      "1038/1038 [==============================] - 5s 5ms/step - loss: 84.4105 - mae: 6.8696\n",
      "Epoch 50/50\n",
      "1038/1038 [==============================] - 5s 5ms/step - loss: 83.6084 - mae: 6.8485\n"
     ]
    }
   ],
   "source": [
    "history = model.fit( X_train, y_train,\n",
    "                     epochs=50,\n",
    "                     batch_size=16,\n",
    "                     verbose=1,\n",
    "                   )"
   ]
  },
  {
   "cell_type": "code",
   "execution_count": 61,
   "metadata": {},
   "outputs": [],
   "source": [
    "from sklearn.metrics import mean_absolute_error\n",
    "\n",
    "y_baseline = np.ones(len(y_test))*y_train.mean()\n",
    "mae_baseline = mean_absolute_error(y_baseline,y_test)\n",
    "\n",
    "y_pred = model.predict(X_test)\n",
    "mae_test = mean_absolute_error(y_pred,y_test)"
   ]
  },
  {
   "cell_type": "code",
   "execution_count": 62,
   "metadata": {},
   "outputs": [
    {
     "data": {
      "text/plain": [
       "15.307923140641591"
      ]
     },
     "execution_count": 62,
     "metadata": {},
     "output_type": "execute_result"
    }
   ],
   "source": [
    "mae_baseline"
   ]
  },
  {
   "cell_type": "code",
   "execution_count": 63,
   "metadata": {},
   "outputs": [
    {
     "data": {
      "text/plain": [
       "10.647274876514155"
      ]
     },
     "execution_count": 63,
     "metadata": {},
     "output_type": "execute_result"
    }
   ],
   "source": [
    "mae_test"
   ]
  },
  {
   "cell_type": "code",
   "execution_count": 64,
   "metadata": {},
   "outputs": [],
   "source": [
    "def plot_history(history):\n",
    "    plt.plot(history.history['loss'])\n",
    "    plt.title('Train loss')\n",
    "    plt.ylabel('Loss')\n",
    "    plt.xlabel('Epoch')\n",
    "    plt.show()"
   ]
  },
  {
   "cell_type": "code",
   "execution_count": 66,
   "metadata": {},
   "outputs": [
    {
     "data": {
      "image/png": "[encoded data removed]",
      "text/plain": [
       "<Figure size 432x288 with 1 Axes>"
      ]
     },
     "metadata": {
      "needs_background": "light"
     },
     "output_type": "display_data"
    }
   ],
   "source": [
    "plot_history(history)"
   ]
  },
  {
   "cell_type": "code",
   "execution_count": 67,
   "metadata": {},
   "outputs": [
    {
     "name": "stdout",
     "output_type": "stream",
     "text": [
      "Model: \"sequential_3\"\n",
      "_________________________________________________________________\n",
      "Layer (type)                 Output Shape              Param #   \n",
      "=================================================================\n",
      "conv2d_3 (Conv2D)            (None, 24, 24, 8)         136       \n",
      "_________________________________________________________________\n",
      "max_pooling2d_3 (MaxPooling2 (None, 12, 12, 8)         0         \n",
      "_________________________________________________________________\n",
      "flatten_3 (Flatten)          (None, 1152)              0         \n",
      "_________________________________________________________________\n",
      "dense_6 (Dense)              (None, 10)                11530     \n",
      "_________________________________________________________________\n",
      "dense_7 (Dense)              (None, 1)                 11        \n",
      "=================================================================\n",
      "Total params: 11,677\n",
      "Trainable params: 11,677\n",
      "Non-trainable params: 0\n",
      "_________________________________________________________________\n"
     ]
    }
   ],
   "source": [
    "model.summary()"
   ]
  },
  {
   "cell_type": "code",
   "execution_count": 69,
   "metadata": {},
   "outputs": [
    {
     "data": {
      "text/plain": [
       "11677"
      ]
     },
     "execution_count": 69,
     "metadata": {},
     "output_type": "execute_result"
    }
   ],
   "source": [
    "params_number = 11_677\n",
    "params_number"
   ]
  },
  {
   "cell_type": "code",
   "execution_count": 70,
   "metadata": {},
   "outputs": [],
   "source": [
    "from nbresult import ChallengeResult\n",
    "result = ChallengeResult('C1516',\n",
    "                         params_number=params_number,\n",
    "                         mae_baseline = mae_baseline,\n",
    "                         mae_test = mae_test,\n",
    "                        )\n",
    "result.write()"
   ]
  },
  {
   "cell_type": "code",
   "execution_count": null,
   "metadata": {},
   "outputs": [],
   "source": []
  }
 ],
 "metadata": {
  "accelerator": "GPU",
  "colab": {
   "authorship_tag": "ABX9TyMOYn4GJAg9EKtu1bGhcoI1",
   "collapsed_sections": [],
   "name": "certification_DL_images",
   "provenance": [],
   "toc_visible": true
  },
  "kernelspec": {
   "display_name": "lewagon",
   "language": "python",
   "name": "lewagon"
  },
  "language_info": {
   "codemirror_mode": {
    "name": "ipython",
    "version": 3
   },
   "file_extension": ".py",
   "mimetype": "text/x-python",
   "name": "python",
   "nbconvert_exporter": "python",
   "pygments_lexer": "ipython3",
   "version": "3.8.6"
  },
  "toc": {
   "base_numbering": 1,
   "nav_menu": {},
   "number_sections": false,
   "sideBar": true,
   "skip_h1_title": false,
   "title_cell": "Table of Contents",
   "title_sidebar": "Contents",
   "toc_cell": false,
   "toc_position": {},
   "toc_section_display": true,
   "toc_window_display": true
  },
  "varInspector": {
   "cols": {
    "lenName": 16,
    "lenType": 16,
    "lenVar": 40
   },
   "kernels_config": {
    "python": {
     "delete_cmd_postfix": "",
     "delete_cmd_prefix": "del ",
     "library": "var_list.py",
     "varRefreshCmd": "print(var_dic_list())"
    },
    "r": {
     "delete_cmd_postfix": ") ",
     "delete_cmd_prefix": "rm(",
     "library": "var_list.r",
     "varRefreshCmd": "cat(var_dic_list()) "
    }
   },
   "types_to_exclude": [
    "module",
    "function",
    "builtin_function_or_method",
    "instance",
    "_Feature"
   ],
   "window_display": false
  }
 },
 "nbformat": 4,
 "nbformat_minor": 1
}
